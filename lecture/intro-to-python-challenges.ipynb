{
 "cells": [
  {
   "cell_type": "code",
   "execution_count": 1,
   "metadata": {},
   "outputs": [
    {
     "name": "stdout",
     "output_type": "stream",
     "text": [
      "The Zen of Python, by Tim Peters\n",
      "\n",
      "Beautiful is better than ugly.\n",
      "Explicit is better than implicit.\n",
      "Simple is better than complex.\n",
      "Complex is better than complicated.\n",
      "Flat is better than nested.\n",
      "Sparse is better than dense.\n",
      "Readability counts.\n",
      "Special cases aren't special enough to break the rules.\n",
      "Although practicality beats purity.\n",
      "Errors should never pass silently.\n",
      "Unless explicitly silenced.\n",
      "In the face of ambiguity, refuse the temptation to guess.\n",
      "There should be one-- and preferably only one --obvious way to do it.\n",
      "Although that way may not be obvious at first unless you're Dutch.\n",
      "Now is better than never.\n",
      "Although never is often better than *right* now.\n",
      "If the implementation is hard to explain, it's a bad idea.\n",
      "If the implementation is easy to explain, it may be a good idea.\n",
      "Namespaces are one honking great idea -- let's do more of those!\n"
     ]
    }
   ],
   "source": [
    "# 1.1 Our First Jupyter Cell\n",
    "# Select this cell and execute it by clicking run or using the shortcut, ctrl + enter\n",
    "# This will display the \"Zen of Python,\" describing the philosophy behind python\n",
    "import this"
   ]
  },
  {
   "cell_type": "code",
   "execution_count": 4,
   "metadata": {},
   "outputs": [
    {
     "name": "stdout",
     "output_type": "stream",
     "text": [
      "Hello, my name is Purnima and I am excited about learning python.\n"
     ]
    }
   ],
   "source": [
    "# 1.2 Introduce Yourself\n",
    "# Define the variables greeting, name, and mood, and assign them string-type values\n",
    "# Then, execute this cell to see an introduction message printed to the console\n",
    "\n",
    "name='Purnima'\n",
    "greeting='Hello'\n",
    "mood='excited'\n",
    "\n",
    "print(greeting + \", my name is \" + name + \" and I am \" + mood + \" about learning python.\")"
   ]
  },
  {
   "cell_type": "code",
   "execution_count": 6,
   "metadata": {},
   "outputs": [
    {
     "name": "stdout",
     "output_type": "stream",
     "text": [
      "1.04\n"
     ]
    }
   ],
   "source": [
    "# 1.3 Operators and Updating Variables\n",
    "# Define numeric variables for the month and day of your birthdate to be used whenever requested\n",
    "month=1\n",
    "day=4\n",
    "\n",
    "# Write a new line of code beneath each comment, always updating the birthdate variable as you do so\n",
    "birthdate = 7\n",
    "# Multiply by the month \n",
    "birthdate = birthdate * month\n",
    "# Subtract 1\n",
    "birthdate = birthdate - 1\n",
    "\n",
    "# Multiply by 13\n",
    "birthdate = birthdate * 13\n",
    "\n",
    "# Add the day of your birth\n",
    "birthdate = birthdate + day\n",
    "\n",
    "# Add 3\n",
    "birthdate = birthdate + 3\n",
    "\n",
    "# Multiply by 11\n",
    "birthdate = birthdate * 11\n",
    "\n",
    "# Subtract the month of your birth\n",
    "birthdate = birthdate - month\n",
    "\n",
    "# Subtract the day of your birth\n",
    "birthdate = birthdate - day\n",
    "\n",
    "# Divide by 10\n",
    "birthdate = birthdate / 10\n",
    "\n",
    "# Add 11\n",
    "birthdate = birthdate + 11\n",
    "\n",
    "# Divide by 100\n",
    "birthdate = birthdate / 100\n",
    "\n",
    "# birthdate should now be a floating point number with the day.month of your birthday\n",
    "print(birthdate)"
   ]
  },
  {
   "cell_type": "code",
   "execution_count": 9,
   "metadata": {},
   "outputs": [
    {
     "name": "stdout",
     "output_type": "stream",
     "text": [
      "When I was so Excited, I started to create but then I soon moved on to play for the Mad Plants and Flowers\n"
     ]
    }
   ],
   "source": [
    "# 1.4 Python Mad Libs\n",
    "# Create a Mad Libs style game using string concatenation or the \"f-string\" style string interpolation\n",
    "# First, define at least 7 variables with names such as adjective_one or noun_three\n",
    "# Then, plug those variables into a long string that tells a story using those variables\n",
    "adjective_one='Excited'\n",
    "adjective_two='Mad'\n",
    "noun_one='Plants'\n",
    "noun_two='Flowers'\n",
    "verb_one='create'\n",
    "verb_two='play'\n",
    "\n",
    "mad_lib=f\"When I was so {adjective_one}, I started to {verb_one} but then I soon moved on to {verb_two} for the {adjective_two} {noun_one} and {noun_two}\"\n",
    "print(mad_lib)"
   ]
  },
  {
   "cell_type": "code",
   "execution_count": null,
   "metadata": {},
   "outputs": [],
   "source": [
    "# 1.5 Code Fast and Break Things\n",
    "# Each of the following lines of code is mistaken in some way\n",
    "# Either they contain errors or don't do what the user would expect them to\n",
    "# Correct each example, and write a comment explaining what went wrong"
   ]
  },
  {
   "cell_type": "code",
   "execution_count": 11,
   "metadata": {},
   "outputs": [
    {
     "name": "stdout",
     "output_type": "stream",
     "text": [
      "1\n"
     ]
    }
   ],
   "source": [
    "# A.Does not have a value assigned or is not defined\n",
    "my_variable=1\n",
    "print(my_variable)"
   ]
  },
  {
   "cell_type": "code",
   "execution_count": 13,
   "metadata": {},
   "outputs": [
    {
     "name": "stdout",
     "output_type": "stream",
     "text": [
      "10\n"
     ]
    }
   ],
   "source": [
    "# B.Did not assign to self\n",
    "# Why didn't it print ten?\n",
    "my_number = 5\n",
    "my_number += 5\n",
    "print(my_number)"
   ]
  },
  {
   "cell_type": "code",
   "execution_count": 16,
   "metadata": {},
   "outputs": [
    {
     "name": "stdout",
     "output_type": "stream",
     "text": [
      "7\n"
     ]
    }
   ],
   "source": [
    "# C. Data Type mis match for add. Numeric types\n",
    "my_num = 5\n",
    "my_string = 2\n",
    "print(my_num + my_string)"
   ]
  },
  {
   "cell_type": "code",
   "execution_count": 20,
   "metadata": {},
   "outputs": [
    {
     "name": "stdout",
     "output_type": "stream",
     "text": [
      "30\n"
     ]
    }
   ],
   "source": [
    "# D. String add vs number. Cast and add\n",
    "# The user expected the result to be 30!\n",
    "my_num1 = \"10\"\n",
    "my_num2 = \"20\"\n",
    "print(int(my_num1) + int(my_num2))"
   ]
  },
  {
   "cell_type": "code",
   "execution_count": 22,
   "metadata": {},
   "outputs": [
    {
     "name": "stdout",
     "output_type": "stream",
     "text": [
      "I enjoy python in the morning\n"
     ]
    }
   ],
   "source": [
    "# E. Language string vs variable\n",
    "# The user expected the message to read \"I enjoy python in the morning.\"\n",
    "language = \"python\"\n",
    "print(f\"I enjoy {language} in the morning\")"
   ]
  },
  {
   "cell_type": "code",
   "execution_count": 24,
   "metadata": {},
   "outputs": [
    {
     "name": "stdout",
     "output_type": "stream",
     "text": [
      "There are 2 plums at home for me\n"
     ]
    }
   ],
   "source": [
    "# F. String type conversion for int\n",
    "# The user expected the message to read \"There are 2 plums at home for me\"\n",
    "number_of_plums = 2\n",
    "who_plums_are_for = \"me\"\n",
    "print(\"There are \" + str(number_of_plums) + \" plums at home for \" + who_plums_are_for)"
   ]
  },
  {
   "cell_type": "code",
   "execution_count": 26,
   "metadata": {},
   "outputs": [
    {
     "name": "stdout",
     "output_type": "stream",
     "text": [
      "Hello World\n",
      "Hello World\n",
      "Hello World\n",
      "Hello World\n"
     ]
    }
   ],
   "source": [
    "# 1.6 How many ways to print with variables\n",
    "# Programming provides many ways of doing the same thing\n",
    "# We've learned about concatenation and f-string interpolation so far\n",
    "# Below, research and demonstrate four different ways of including variables in a string in python\n",
    "# You don't need to understand exactly how they're working to get them to work!\n",
    "\n",
    "world = \"World\"\n",
    "print(\"Hello \" + world)\n",
    "print(f\"Hello {world}\")\n",
    "print(\"Hello %s\" %world)\n",
    "print(\"Hello {}\".format(world))"
   ]
  },
  {
   "cell_type": "code",
   "execution_count": null,
   "metadata": {},
   "outputs": [],
   "source": []
  }
 ],
 "metadata": {
  "kernelspec": {
   "display_name": "default:Python",
   "language": "python",
   "name": "conda-env-default-py"
  },
  "language_info": {
   "codemirror_mode": {
    "name": "ipython",
    "version": 3
   },
   "file_extension": ".py",
   "mimetype": "text/x-python",
   "name": "python",
   "nbconvert_exporter": "python",
   "pygments_lexer": "ipython3",
   "version": "3.9.13"
  }
 },
 "nbformat": 4,
 "nbformat_minor": 4
}
